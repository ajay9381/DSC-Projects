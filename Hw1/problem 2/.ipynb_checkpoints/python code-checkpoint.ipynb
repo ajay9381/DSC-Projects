{
 "cells": [
  {
   "cell_type": "code",
   "execution_count": 2,
   "id": "d3397348",
   "metadata": {},
   "outputs": [
    {
     "name": "stdout",
     "output_type": "stream",
     "text": [
      "The expected average value of snowfall in January is approximately 2.0535220561038887 meters.\n"
     ]
    }
   ],
   "source": [
    "import random\n",
    "import math\n",
    "\n",
    "def snowfall_pdf(S):\n",
    "    if 0 <= S <= 10:\n",
    "        denominator = 2.4496028273129427\n",
    "        exponent = -0.5 * abs(S - 2) ** 2\n",
    "        return 1.0 / denominator * math.exp(exponent)\n",
    "    else:\n",
    "        return 0.0\n",
    "\n",
    "def monte_carlo_snowfall(N, num_trials):\n",
    "    V = 10  # The range of integration [0, 10]\n",
    "    total_snowfall = 0.0\n",
    "\n",
    "    for _ in range(num_trials):\n",
    "        trial_sum = 0.0\n",
    "\n",
    "        for _ in range(N):\n",
    "            random_S = 10.0 * random.random()  # Random number between 0 and 10\n",
    "            pdf_value = snowfall_pdf(random_S)\n",
    "            trial_sum += random_S * pdf_value\n",
    "\n",
    "        approx_integral = (V / N) * trial_sum\n",
    "        total_snowfall += approx_integral\n",
    "\n",
    "    average_snowfall = total_snowfall / num_trials\n",
    "    return average_snowfall\n",
    "\n",
    "if __name__ == \"__main__\":\n",
    "    num_trials = 1000\n",
    "    result = monte_carlo_snowfall(1000, num_trials)\n",
    "\n",
    "    print(f\"The expected average value of snowfall in January is approximately {result} meters.\")\n"
   ]
  },
  {
   "cell_type": "markdown",
   "id": "e134301f",
   "metadata": {},
   "source": [
    "The estimated expected average value of snowfall in January based on the given probability density function is approximately 2.0587877921394986 meters. To provide convincing evidence for the reliability of this value, you can consider the following factors:\n",
    "\n",
    "Consistency with Probability Theory: The Monte Carlo method is a well-established technique in probability and statistics. It's based on the law of large numbers, which ensures that as the number of trials (in this case, the number of random samples) increases, the estimated value converges to the true expected value. Since you conducted multiple trials, this consistency is a good sign of the reliability of the result.\n",
    "\n",
    "Reproducibility: You can mention that your code and the random sampling process are both reproducible. You can share your code and the method you used to generate random samples, so others can replicate your experiment and verify the result.\n",
    "\n",
    "Convergence Behavior: By conducting the experiment with a large number of random samples (N), you can show that the estimated value stabilizes. In the context of the Monte Carlo method, increasing N generally leads to a more accurate estimate of the expected value. You can plot the estimated values of E(N) against N and show that the values become stable.\n",
    "\n",
    "Mathematical Correctness: You mentioned that you verified the normalization of the probability density function, which is an important mathematical property for the model. This shows that your approach aligns with the underlying theory.\n",
    "\n",
    "Cross-Validation: If possible, you can compare your result with other methods or models used to predict snowfall. While your example is made-up, in real-world applications, cross-validation with different models or datasets can provide additional confidence in the result.\n",
    "\n",
    "By considering these factors and providing documentation of your code and methodology, you can build a strong case for the trustworthiness of your estimated snowfall value."
   ]
  },
  {
   "cell_type": "code",
   "execution_count": null,
   "id": "fbfebe0c",
   "metadata": {},
   "outputs": [],
   "source": []
  }
 ],
 "metadata": {
  "kernelspec": {
   "display_name": "Python 3 (ipykernel)",
   "language": "python",
   "name": "python3"
  },
  "language_info": {
   "codemirror_mode": {
    "name": "ipython",
    "version": 3
   },
   "file_extension": ".py",
   "mimetype": "text/x-python",
   "name": "python",
   "nbconvert_exporter": "python",
   "pygments_lexer": "ipython3",
   "version": "3.9.13"
  }
 },
 "nbformat": 4,
 "nbformat_minor": 5
}
